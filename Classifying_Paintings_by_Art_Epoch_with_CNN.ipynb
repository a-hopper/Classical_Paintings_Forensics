{
 "cells": [
  {
   "cell_type": "code",
   "execution_count": null,
   "metadata": {
    "collapsed": true
   },
   "outputs": [],
   "source": [
    "from keras import applications\n",
    "from keras.preprocessing.image import ImageDataGenerator\n",
    "from keras import optimizers\n",
    "from keras.models import Sequential, Model\n",
    "from keras.layers import Dropout, Flatten, Dense, GlobalAveragePooling2D\n",
    "from keras import backend as k\n",
    "from keras.callbacks import ModelCheckpoint, LearningRateScheduler, TensorBoard, EarlyStopping"
   ]
  },
  {
   "cell_type": "code",
   "execution_count": null,
   "metadata": {
    "collapsed": true
   },
   "outputs": [],
   "source": [
    "# define various hyperparameters\n",
    "nb_train_samples = 5622\n",
    "nb_validation_samples = 750\n",
    "batch_size = 16\n",
    "epochs = 50"
   ]
  },
  {
   "cell_type": "code",
   "execution_count": null,
   "metadata": {
    "collapsed": true
   },
   "outputs": [],
   "source": [
    "# load the pre-trained model for transfer learning\n",
    "img_width, img_height = 256, 256\n",
    "model = applications.VGG19(weights=\"imagenet\", include_top=False, input_shape=(\n",
    "    img_width, img_height, 3))\n",
    "\n",
    "# to load other models follow use the following parameters:\n",
    "\"\"\"\n",
    "{ \n",
    "    \"xception\":    { \"width\": 299, \"height\": 299 },\n",
    "    \"vgg16\":       { \"width\": 224, \"height\": 224 },\n",
    "    \"vgg19\":       { \"width\": 224, \"height\": 224 },\n",
    "    \"resnet50\":    { \"width\": 224, \"height\": 224 },\n",
    "    \"inceptionv3\": { \"width\": 299, \"height\": 299 },\n",
    "    \"mobilenet\":   { \"width\": 224, \"height\": 224 }\n",
    "}\n",
    "\"\"\""
   ]
  },
  {
   "cell_type": "code",
   "execution_count": null,
   "metadata": {
    "collapsed": true
   },
   "outputs": [],
   "source": [
    "# Freeze the layers which you don't want to train. Here I am freezing the first 5 layers.\n",
    "for layer in model.layers[:5]:\n",
    "    layer.trainable = False"
   ]
  },
  {
   "cell_type": "code",
   "execution_count": null,
   "metadata": {
    "collapsed": true
   },
   "outputs": [],
   "source": [
    "# adding custom Layers\n",
    "x = model.output\n",
    "x = Flatten()(x)\n",
    "x = Dense(1024, activation=\"relu\")(x)\n",
    "x = Dropout(0.5)(x)\n",
    "x = Dense(1024, activation=\"relu\")(x)\n",
    "predictions = Dense(3, activation=\"softmax\")(x)"
   ]
  },
  {
   "cell_type": "code",
   "execution_count": null,
   "metadata": {
    "collapsed": true
   },
   "outputs": [],
   "source": [
    "# creating the final model\n",
    "model_final = Model(input=model.input, output=predictions)\n",
    "\n",
    "# compile the model\n",
    "model_final.compile(loss=\"categorical_crossentropy\",\n",
    "                    optimizer=optimizers.SGD(lr=0.0001, momentum=0.9),\n",
    "                    metrics=[\"accuracy\"]\n",
    "                    )"
   ]
  },
  {
   "cell_type": "code",
   "execution_count": null,
   "metadata": {
    "collapsed": true
   },
   "outputs": [],
   "source": [
    "# Initiate the train and test generators with data Augumentation\n",
    "train_datagen = ImageDataGenerator(\n",
    "    rescale=1. / 255,\n",
    "    horizontal_flip=False)\n",
    "\n",
    "# this is the augmentation configuration we will use for testing:\n",
    "# only rescaling\n",
    "test_datagen = ImageDataGenerator(rescale=1. / 255)\n",
    "\n",
    "train_generator = train_datagen.flow_from_directory(\n",
    "    'train_set_paintings//',\n",
    "    target_size=(img_height, img_width),\n",
    "    batch_size=batch_size,\n",
    "    class_mode=\"categorical\"\n",
    ")\n",
    "\n",
    "validation_generator = test_datagen.flow_from_directory(\n",
    "    'validation_set_paintings//',\n",
    "    target_size=(img_height, img_width),\n",
    "    class_mode=\"categorical\"\n",
    ")"
   ]
  },
  {
   "cell_type": "code",
   "execution_count": null,
   "metadata": {
    "collapsed": true
   },
   "outputs": [],
   "source": [
    "# Save the model according to the conditions\n",
    "checkpoint = ModelCheckpoint(\"vgg19_1.h5\", monitor='val_acc',\n",
    "                             verbose=1, save_best_only=True,\n",
    "                             save_weights_only=False,\n",
    "                             mode='auto', period=1)\n",
    "# monitor the loss\n",
    "early = EarlyStopping(monitor='val_acc', min_delta=0, patience=10, verbose=1, mode='auto')"
   ]
  },
  {
   "cell_type": "code",
   "execution_count": null,
   "metadata": {
    "collapsed": true
   },
   "outputs": [],
   "source": [
    "# Train the model\n",
    "hist = model_final.fit_generator(\n",
    "    train_generator,\n",
    "    steps_per_epoch=1800 // batch_size,\n",
    "    epochs=100,\n",
    "    validation_data=validation_generator,\n",
    "    validation_steps=250 // batch_size,\n",
    "    callbacks=[checkpoint, early],\n",
    "    workers=8  # cpu generation is run in parallel to the gpu training\n",
    ")\n",
    "\n",
    "print(\"Maximum train accuracy:\", max(hist.history[\"acc\"]))\n",
    "print(\"Maximum train accuracy on epoch:\", hist.history[\"acc\"].index(max(hist.history[\"acc\"])) + 1)\n",
    "\n",
    "print(\"Maximum validation accuracy:\", max(hist.history[\"val_acc\"]))\n",
    "print(\"Maximum validation accuracy on epoch:\", hist.history[\"val_acc\"].index(max(hist.history[\"val_acc\"])) + 1)\n",
    "\n",
    "\"\"\"\n",
    "Epoch 00051: early stopping\n",
    "Maximum train accuracy: 0.955357142857\n",
    "Maximum train accuracy on epoch: 52\n",
    "Maximum validation accuracy: 0.75757575835\n",
    "Maximum validation accuracy on epoch: 41\n",
    "\"\"\""
   ]
  },
  {
   "cell_type": "code",
   "execution_count": null,
   "metadata": {
    "collapsed": true
   },
   "outputs": [],
   "source": [
    "# visualize the results\n",
    "import matplotlib.pyplot as plt\n",
    "\n",
    "\n",
    "def plot_history(hist):\n",
    "    plt.figure()\n",
    "    plt.xlabel(\"Epochs\")\n",
    "    plt.ylabel(\"Loss\")\n",
    "    plt.plot(hist.history['loss'])\n",
    "    plt.plot(hist.history['val_loss'])\n",
    "    plt.legend(['Training', 'Validation'])\n",
    "    plt.savefig('paintings_loss_vgg19.png', dpi=400)\n",
    "\n",
    "    plt.figure()\n",
    "    plt.xlabel(\"Epochs\")\n",
    "    plt.ylabel(\"Accuracy\")\n",
    "    plt.plot(hist.history['acc'])\n",
    "    plt.plot(hist.history['val_acc'])\n",
    "    plt.legend(['Training', 'Validation'])\n",
    "    plt.savefig('paintings_accuracy_vgg19.png', dpi=400)\n",
    "\n",
    "\n",
    "plot_history(hist)"
   ]
  },
  {
   "cell_type": "code",
   "execution_count": null,
   "metadata": {
    "collapsed": true
   },
   "outputs": [],
   "source": []
  }
 ],
 "metadata": {
  "kernelspec": {
   "display_name": "Python 3",
   "language": "python",
   "name": "python3"
  },
  "language_info": {
   "codemirror_mode": {
    "name": "ipython",
    "version": 3
   },
   "file_extension": ".py",
   "mimetype": "text/x-python",
   "name": "python",
   "nbconvert_exporter": "python",
   "pygments_lexer": "ipython3",
   "version": "3.5.4"
  }
 },
 "nbformat": 4,
 "nbformat_minor": 1
}
